{
  "nbformat": 4,
  "nbformat_minor": 0,
  "metadata": {
    "colab": {
      "provenance": [],
      "authorship_tag": "ABX9TyOzqUj69kaVu+xLEOsFa6Qg",
      "include_colab_link": true
    },
    "kernelspec": {
      "name": "python3",
      "display_name": "Python 3"
    },
    "language_info": {
      "name": "python"
    }
  },
  "cells": [
    {
      "cell_type": "markdown",
      "metadata": {
        "id": "view-in-github",
        "colab_type": "text"
      },
      "source": [
        "<a href=\"https://colab.research.google.com/github/Gyanma/Chess_Opening_Analysis/blob/main/doc/Chess_Analysis_Data_Prep.ipynb\" target=\"_parent\"><img src=\"https://colab.research.google.com/assets/colab-badge.svg\" alt=\"Open In Colab\"/></a>"
      ]
    },
    {
      "cell_type": "markdown",
      "source": [
        "Import libraries and dataset"
      ],
      "metadata": {
        "id": "bN2L9rMu3ZJf"
      }
    },
    {
      "cell_type": "code",
      "execution_count": null,
      "metadata": {
        "id": "vRlS0IiN09KC"
      },
      "outputs": [],
      "source": [
        "import pandas as pd\n"
      ]
    },
    {
      "cell_type": "code",
      "source": [
        "data = pd.read_csv(\"games.csv\")"
      ],
      "metadata": {
        "id": "3ySTo_0Se1nL"
      },
      "execution_count": null,
      "outputs": []
    },
    {
      "cell_type": "markdown",
      "source": [
        "Check for missing data"
      ],
      "metadata": {
        "id": "-GLzSGJe3d1L"
      }
    },
    {
      "cell_type": "code",
      "source": [
        "data.isnull().sum().value_counts()"
      ],
      "metadata": {
        "id": "fIeTfOLO30MX",
        "colab": {
          "base_uri": "https://localhost:8080/"
        },
        "outputId": "78724192-b183-44d0-fa96-87b715185062"
      },
      "execution_count": null,
      "outputs": [
        {
          "output_type": "execute_result",
          "data": {
            "text/plain": [
              "0    16\n",
              "dtype: int64"
            ]
          },
          "metadata": {},
          "execution_count": 10
        }
      ]
    },
    {
      "cell_type": "markdown",
      "source": [
        "Drop non relevant columns"
      ],
      "metadata": {
        "id": "ooaUfI-Y-eKb"
      }
    },
    {
      "cell_type": "code",
      "source": [
        "data = data.drop(columns=[\"created_at\", \"last_move_at\"])"
      ],
      "metadata": {
        "id": "5jC-__R2-sSh"
      },
      "execution_count": null,
      "outputs": []
    },
    {
      "cell_type": "markdown",
      "source": [
        "Remove duplicates"
      ],
      "metadata": {
        "id": "HcaUjrkD7mvL"
      }
    },
    {
      "cell_type": "code",
      "source": [
        "num_duplicates = data.duplicated().sum()\n",
        "print(\"Number of duplicates:\", num_duplicates)\n",
        "\n",
        "data = data.drop_duplicates()"
      ],
      "metadata": {
        "id": "vvX2UEik7mWC",
        "colab": {
          "base_uri": "https://localhost:8080/"
        },
        "outputId": "fc4ebed7-e58d-428f-e736-bfe9099b2282"
      },
      "execution_count": null,
      "outputs": [
        {
          "output_type": "stream",
          "name": "stdout",
          "text": [
            "Number of duplicates: 945\n"
          ]
        }
      ]
    },
    {
      "cell_type": "markdown",
      "source": [
        "Get Statistical measures"
      ],
      "metadata": {
        "id": "-wVsIjVz_VlF"
      }
    },
    {
      "cell_type": "code",
      "source": [
        "data.describe()"
      ],
      "metadata": {
        "id": "HzsNLap0_ZgB",
        "colab": {
          "base_uri": "https://localhost:8080/",
          "height": 300
        },
        "outputId": "feb0a7b7-5088-4c8c-e291-e4fe8fd77b80"
      },
      "execution_count": null,
      "outputs": [
        {
          "output_type": "execute_result",
          "data": {
            "text/plain": [
              "              turns  white_rating  black_rating   opening_ply\n",
              "count  19113.000000  19113.000000  19113.000000  19113.000000\n",
              "mean      60.513839   1597.300005   1590.045519      4.815780\n",
              "std       33.488264    290.022740    290.441694      2.798283\n",
              "min        1.000000    784.000000    789.000000      1.000000\n",
              "25%       37.000000   1401.000000   1394.000000      3.000000\n",
              "50%       55.000000   1567.000000   1563.000000      4.000000\n",
              "75%       79.000000   1792.000000   1785.000000      6.000000\n",
              "max      349.000000   2700.000000   2723.000000     28.000000"
            ],
            "text/html": [
              "\n",
              "\n",
              "  <div id=\"df-55c13c57-5691-4199-a002-26180b822485\">\n",
              "    <div class=\"colab-df-container\">\n",
              "      <div>\n",
              "<style scoped>\n",
              "    .dataframe tbody tr th:only-of-type {\n",
              "        vertical-align: middle;\n",
              "    }\n",
              "\n",
              "    .dataframe tbody tr th {\n",
              "        vertical-align: top;\n",
              "    }\n",
              "\n",
              "    .dataframe thead th {\n",
              "        text-align: right;\n",
              "    }\n",
              "</style>\n",
              "<table border=\"1\" class=\"dataframe\">\n",
              "  <thead>\n",
              "    <tr style=\"text-align: right;\">\n",
              "      <th></th>\n",
              "      <th>turns</th>\n",
              "      <th>white_rating</th>\n",
              "      <th>black_rating</th>\n",
              "      <th>opening_ply</th>\n",
              "    </tr>\n",
              "  </thead>\n",
              "  <tbody>\n",
              "    <tr>\n",
              "      <th>count</th>\n",
              "      <td>19113.000000</td>\n",
              "      <td>19113.000000</td>\n",
              "      <td>19113.000000</td>\n",
              "      <td>19113.000000</td>\n",
              "    </tr>\n",
              "    <tr>\n",
              "      <th>mean</th>\n",
              "      <td>60.513839</td>\n",
              "      <td>1597.300005</td>\n",
              "      <td>1590.045519</td>\n",
              "      <td>4.815780</td>\n",
              "    </tr>\n",
              "    <tr>\n",
              "      <th>std</th>\n",
              "      <td>33.488264</td>\n",
              "      <td>290.022740</td>\n",
              "      <td>290.441694</td>\n",
              "      <td>2.798283</td>\n",
              "    </tr>\n",
              "    <tr>\n",
              "      <th>min</th>\n",
              "      <td>1.000000</td>\n",
              "      <td>784.000000</td>\n",
              "      <td>789.000000</td>\n",
              "      <td>1.000000</td>\n",
              "    </tr>\n",
              "    <tr>\n",
              "      <th>25%</th>\n",
              "      <td>37.000000</td>\n",
              "      <td>1401.000000</td>\n",
              "      <td>1394.000000</td>\n",
              "      <td>3.000000</td>\n",
              "    </tr>\n",
              "    <tr>\n",
              "      <th>50%</th>\n",
              "      <td>55.000000</td>\n",
              "      <td>1567.000000</td>\n",
              "      <td>1563.000000</td>\n",
              "      <td>4.000000</td>\n",
              "    </tr>\n",
              "    <tr>\n",
              "      <th>75%</th>\n",
              "      <td>79.000000</td>\n",
              "      <td>1792.000000</td>\n",
              "      <td>1785.000000</td>\n",
              "      <td>6.000000</td>\n",
              "    </tr>\n",
              "    <tr>\n",
              "      <th>max</th>\n",
              "      <td>349.000000</td>\n",
              "      <td>2700.000000</td>\n",
              "      <td>2723.000000</td>\n",
              "      <td>28.000000</td>\n",
              "    </tr>\n",
              "  </tbody>\n",
              "</table>\n",
              "</div>\n",
              "      <button class=\"colab-df-convert\" onclick=\"convertToInteractive('df-55c13c57-5691-4199-a002-26180b822485')\"\n",
              "              title=\"Convert this dataframe to an interactive table.\"\n",
              "              style=\"display:none;\">\n",
              "\n",
              "  <svg xmlns=\"http://www.w3.org/2000/svg\" height=\"24px\"viewBox=\"0 0 24 24\"\n",
              "       width=\"24px\">\n",
              "    <path d=\"M0 0h24v24H0V0z\" fill=\"none\"/>\n",
              "    <path d=\"M18.56 5.44l.94 2.06.94-2.06 2.06-.94-2.06-.94-.94-2.06-.94 2.06-2.06.94zm-11 1L8.5 8.5l.94-2.06 2.06-.94-2.06-.94L8.5 2.5l-.94 2.06-2.06.94zm10 10l.94 2.06.94-2.06 2.06-.94-2.06-.94-.94-2.06-.94 2.06-2.06.94z\"/><path d=\"M17.41 7.96l-1.37-1.37c-.4-.4-.92-.59-1.43-.59-.52 0-1.04.2-1.43.59L10.3 9.45l-7.72 7.72c-.78.78-.78 2.05 0 2.83L4 21.41c.39.39.9.59 1.41.59.51 0 1.02-.2 1.41-.59l7.78-7.78 2.81-2.81c.8-.78.8-2.07 0-2.86zM5.41 20L4 18.59l7.72-7.72 1.47 1.35L5.41 20z\"/>\n",
              "  </svg>\n",
              "      </button>\n",
              "\n",
              "\n",
              "\n",
              "    <div id=\"df-0354bf5b-6aa0-4387-843c-6991a4462089\">\n",
              "      <button class=\"colab-df-quickchart\" onclick=\"quickchart('df-0354bf5b-6aa0-4387-843c-6991a4462089')\"\n",
              "              title=\"Suggest charts.\"\n",
              "              style=\"display:none;\">\n",
              "\n",
              "<svg xmlns=\"http://www.w3.org/2000/svg\" height=\"24px\"viewBox=\"0 0 24 24\"\n",
              "     width=\"24px\">\n",
              "    <g>\n",
              "        <path d=\"M19 3H5c-1.1 0-2 .9-2 2v14c0 1.1.9 2 2 2h14c1.1 0 2-.9 2-2V5c0-1.1-.9-2-2-2zM9 17H7v-7h2v7zm4 0h-2V7h2v10zm4 0h-2v-4h2v4z\"/>\n",
              "    </g>\n",
              "</svg>\n",
              "      </button>\n",
              "    </div>\n",
              "\n",
              "<style>\n",
              "  .colab-df-quickchart {\n",
              "    background-color: #E8F0FE;\n",
              "    border: none;\n",
              "    border-radius: 50%;\n",
              "    cursor: pointer;\n",
              "    display: none;\n",
              "    fill: #1967D2;\n",
              "    height: 32px;\n",
              "    padding: 0 0 0 0;\n",
              "    width: 32px;\n",
              "  }\n",
              "\n",
              "  .colab-df-quickchart:hover {\n",
              "    background-color: #E2EBFA;\n",
              "    box-shadow: 0px 1px 2px rgba(60, 64, 67, 0.3), 0px 1px 3px 1px rgba(60, 64, 67, 0.15);\n",
              "    fill: #174EA6;\n",
              "  }\n",
              "\n",
              "  [theme=dark] .colab-df-quickchart {\n",
              "    background-color: #3B4455;\n",
              "    fill: #D2E3FC;\n",
              "  }\n",
              "\n",
              "  [theme=dark] .colab-df-quickchart:hover {\n",
              "    background-color: #434B5C;\n",
              "    box-shadow: 0px 1px 3px 1px rgba(0, 0, 0, 0.15);\n",
              "    filter: drop-shadow(0px 1px 2px rgba(0, 0, 0, 0.3));\n",
              "    fill: #FFFFFF;\n",
              "  }\n",
              "</style>\n",
              "\n",
              "    <script>\n",
              "      async function quickchart(key) {\n",
              "        const containerElement = document.querySelector('#' + key);\n",
              "        const charts = await google.colab.kernel.invokeFunction(\n",
              "            'suggestCharts', [key], {});\n",
              "      }\n",
              "    </script>\n",
              "\n",
              "      <script>\n",
              "\n",
              "function displayQuickchartButton(domScope) {\n",
              "  let quickchartButtonEl =\n",
              "    domScope.querySelector('#df-0354bf5b-6aa0-4387-843c-6991a4462089 button.colab-df-quickchart');\n",
              "  quickchartButtonEl.style.display =\n",
              "    google.colab.kernel.accessAllowed ? 'block' : 'none';\n",
              "}\n",
              "\n",
              "        displayQuickchartButton(document);\n",
              "      </script>\n",
              "      <style>\n",
              "    .colab-df-container {\n",
              "      display:flex;\n",
              "      flex-wrap:wrap;\n",
              "      gap: 12px;\n",
              "    }\n",
              "\n",
              "    .colab-df-convert {\n",
              "      background-color: #E8F0FE;\n",
              "      border: none;\n",
              "      border-radius: 50%;\n",
              "      cursor: pointer;\n",
              "      display: none;\n",
              "      fill: #1967D2;\n",
              "      height: 32px;\n",
              "      padding: 0 0 0 0;\n",
              "      width: 32px;\n",
              "    }\n",
              "\n",
              "    .colab-df-convert:hover {\n",
              "      background-color: #E2EBFA;\n",
              "      box-shadow: 0px 1px 2px rgba(60, 64, 67, 0.3), 0px 1px 3px 1px rgba(60, 64, 67, 0.15);\n",
              "      fill: #174EA6;\n",
              "    }\n",
              "\n",
              "    [theme=dark] .colab-df-convert {\n",
              "      background-color: #3B4455;\n",
              "      fill: #D2E3FC;\n",
              "    }\n",
              "\n",
              "    [theme=dark] .colab-df-convert:hover {\n",
              "      background-color: #434B5C;\n",
              "      box-shadow: 0px 1px 3px 1px rgba(0, 0, 0, 0.15);\n",
              "      filter: drop-shadow(0px 1px 2px rgba(0, 0, 0, 0.3));\n",
              "      fill: #FFFFFF;\n",
              "    }\n",
              "  </style>\n",
              "\n",
              "      <script>\n",
              "        const buttonEl =\n",
              "          document.querySelector('#df-55c13c57-5691-4199-a002-26180b822485 button.colab-df-convert');\n",
              "        buttonEl.style.display =\n",
              "          google.colab.kernel.accessAllowed ? 'block' : 'none';\n",
              "\n",
              "        async function convertToInteractive(key) {\n",
              "          const element = document.querySelector('#df-55c13c57-5691-4199-a002-26180b822485');\n",
              "          const dataTable =\n",
              "            await google.colab.kernel.invokeFunction('convertToInteractive',\n",
              "                                                     [key], {});\n",
              "          if (!dataTable) return;\n",
              "\n",
              "          const docLinkHtml = 'Like what you see? Visit the ' +\n",
              "            '<a target=\"_blank\" href=https://colab.research.google.com/notebooks/data_table.ipynb>data table notebook</a>'\n",
              "            + ' to learn more about interactive tables.';\n",
              "          element.innerHTML = '';\n",
              "          dataTable['output_type'] = 'display_data';\n",
              "          await google.colab.output.renderOutput(dataTable, element);\n",
              "          const docLink = document.createElement('div');\n",
              "          docLink.innerHTML = docLinkHtml;\n",
              "          element.appendChild(docLink);\n",
              "        }\n",
              "      </script>\n",
              "    </div>\n",
              "  </div>\n"
            ]
          },
          "metadata": {},
          "execution_count": 13
        }
      ]
    },
    {
      "cell_type": "code",
      "source": [
        "data.value_counts()"
      ],
      "metadata": {
        "id": "gB9ZcmR__eJ5"
      },
      "execution_count": null,
      "outputs": []
    },
    {
      "cell_type": "markdown",
      "source": [
        "Get statistical measures of the two parts of feature increment_code"
      ],
      "metadata": {
        "id": "ln4Wa-7d9oiy"
      }
    },
    {
      "cell_type": "code",
      "source": [
        "df = data\n",
        "\n",
        "# Split the feature into separate columns for A and B\n",
        "df[['A', 'B']] = data['increment_code'].str.split('+', expand=True).astype(int)\n",
        "\n",
        "# Calculate statistical measures for variables A and B\n",
        "print(\"Feature: A\")\n",
        "print(df['A'].describe())\n",
        "print (df['A'].value_counts().head(1))\n",
        "print (df['A'].nunique())\n",
        "\n",
        "print(\"Feature: B\")\n",
        "print(df['B'].describe())\n",
        "print (df['B'].value_counts().head(1))\n",
        "print (df['B'].nunique())\n",
        "\n",
        "data = data.drop(columns=[\"A\", \"B\"])"
      ],
      "metadata": {
        "id": "fmpvHwaP9oQY"
      },
      "execution_count": null,
      "outputs": []
    },
    {
      "cell_type": "markdown",
      "source": [
        "Get mode"
      ],
      "metadata": {
        "id": "fmWy_JLu5IWU"
      }
    },
    {
      "cell_type": "code",
      "source": [
        "for column in data.columns:\n",
        "    mode = data[column].value_counts().head(5)\n",
        "    unique_count = data[column].nunique()\n",
        "    print(\"Feature:\", column)\n",
        "    print(mode)\n",
        "    print(\"Number of unique values:\", unique_count)\n",
        "    print()"
      ],
      "metadata": {
        "id": "yR8ZxjfZ4LEW",
        "colab": {
          "base_uri": "https://localhost:8080/"
        },
        "outputId": "b1b7b5e8-e8c8-427a-fbda-cef3a461c1b2"
      },
      "execution_count": null,
      "outputs": [
        {
          "output_type": "stream",
          "name": "stdout",
          "text": [
            "Feature: id\n",
            "TZJHLljE    1\n",
            "ojkMBE49    1\n",
            "JTfFY9HD    1\n",
            "0wkPVyCT    1\n",
            "9oQQUmDI    1\n",
            "Name: id, dtype: int64\n",
            "Number of unique values: 19113\n",
            "\n",
            "Feature: rated\n",
            "True     15467\n",
            "False     3646\n",
            "Name: rated, dtype: int64\n",
            "Number of unique values: 2\n",
            "\n",
            "Feature: turns\n",
            "45    294\n",
            "53    292\n",
            "41    289\n",
            "39    287\n",
            "57    285\n",
            "Name: turns, dtype: int64\n",
            "Number of unique values: 211\n",
            "\n",
            "Feature: victory_status\n",
            "resign       10695\n",
            "mate          5974\n",
            "outoftime     1598\n",
            "draw           846\n",
            "Name: victory_status, dtype: int64\n",
            "Number of unique values: 4\n",
            "\n",
            "Feature: winner\n",
            "white    9545\n",
            "black    8680\n",
            "draw      888\n",
            "Name: winner, dtype: int64\n",
            "Number of unique values: 3\n",
            "\n",
            "Feature: increment_code\n",
            "10+0     7356\n",
            "15+0     1258\n",
            "15+15     821\n",
            "5+5       723\n",
            "5+8       678\n",
            "Name: increment_code, dtype: int64\n",
            "Number of unique values: 400\n",
            "\n",
            "Feature: white_id\n",
            "ssf7             48\n",
            "bleda            48\n",
            "hassan1365416    44\n",
            "khelil           41\n",
            "1240100948       38\n",
            "Name: white_id, dtype: int64\n",
            "Number of unique values: 9438\n",
            "\n",
            "Feature: white_rating\n",
            "1500    785\n",
            "1480     51\n",
            "1536     45\n",
            "1562     42\n",
            "1708     42\n",
            "Name: white_rating, dtype: int64\n",
            "Number of unique values: 1516\n",
            "\n",
            "Feature: black_id\n",
            "docboss      44\n",
            "cape217      38\n",
            "amanan       33\n",
            "erikweisz    31\n",
            "jdbarger     30\n",
            "Name: black_id, dtype: int64\n",
            "Number of unique values: 9331\n",
            "\n",
            "Feature: black_rating\n",
            "1500    763\n",
            "1501     53\n",
            "1562     44\n",
            "1400     44\n",
            "1810     44\n",
            "Name: black_rating, dtype: int64\n",
            "Number of unique values: 1521\n",
            "\n",
            "Feature: moves\n",
            "e4 e5        26\n",
            "e4 d5        21\n",
            "d4 d5        17\n",
            "e4 e5 Nf3    16\n",
            "e4           11\n",
            "Name: moves, dtype: int64\n",
            "Number of unique values: 18920\n",
            "\n",
            "Feature: opening_eco\n",
            "A00    948\n",
            "C00    810\n",
            "D00    701\n",
            "B01    688\n",
            "C41    650\n",
            "Name: opening_eco, dtype: int64\n",
            "Number of unique values: 365\n",
            "\n",
            "Feature: opening_name\n",
            "Sicilian Defense                    349\n",
            "Van't Kruijs Opening                342\n",
            "Sicilian Defense: Bowdler Attack    290\n",
            "French Defense: Knight Variation    260\n",
            "Scotch Game                         254\n",
            "Name: opening_name, dtype: int64\n",
            "Number of unique values: 1477\n",
            "\n",
            "Feature: opening_ply\n",
            "3    3335\n",
            "4    3157\n",
            "2    2809\n",
            "5    2600\n",
            "6    1920\n",
            "Name: opening_ply, dtype: int64\n",
            "Number of unique values: 23\n",
            "\n"
          ]
        }
      ]
    },
    {
      "cell_type": "markdown",
      "source": [
        "Modify \"moves\""
      ],
      "metadata": {
        "id": "EAR7xfRphLbQ"
      }
    },
    {
      "cell_type": "code",
      "source": [
        "data['moves'] = data.apply(lambda row: ' '.join(row['moves'].split()[:row['opening_ply']]), axis=1)"
      ],
      "metadata": {
        "id": "f6-sANOPhLPk"
      },
      "execution_count": null,
      "outputs": []
    },
    {
      "cell_type": "markdown",
      "source": [
        "Drop non relevant columns"
      ],
      "metadata": {
        "id": "Ktt3_QqhAXBF"
      }
    },
    {
      "cell_type": "code",
      "source": [
        "data = data.drop(columns=[\"turns\", \"id\", \"victory_status\", \"white_id\", \"black_id\"])"
      ],
      "metadata": {
        "id": "FBQOVgb5Abxl"
      },
      "execution_count": null,
      "outputs": []
    },
    {
      "cell_type": "markdown",
      "source": [
        "Create different variables from \"increment_code\""
      ],
      "metadata": {
        "id": "dQo-wBP0I-gE"
      }
    },
    {
      "cell_type": "code",
      "source": [
        "data[['starting_minutes', 'additional_seconds']] = data['increment_code'].str.split('+', expand=True).astype(int)\n",
        "data = data.drop(columns = [\"increment_code\"])"
      ],
      "metadata": {
        "id": "G0LorANvI_o9"
      },
      "execution_count": null,
      "outputs": []
    },
    {
      "cell_type": "markdown",
      "source": [
        "Reorganize columns"
      ],
      "metadata": {
        "id": "M__FU_wqMrg6"
      }
    },
    {
      "cell_type": "code",
      "source": [
        "custom_order = ['rated', 'starting_minutes', 'additional_seconds', 'white_rating', 'black_rating', 'moves', 'opening_eco', 'opening_name', 'opening_ply', 'winner']\n",
        "data = data[custom_order]"
      ],
      "metadata": {
        "id": "Yt616mddMtbt"
      },
      "execution_count": null,
      "outputs": []
    },
    {
      "cell_type": "markdown",
      "source": [
        "Remove undesired characters from the values in preparation of the modeling with Weka"
      ],
      "metadata": {
        "id": "K4hUw6saH93l"
      }
    },
    {
      "cell_type": "code",
      "source": [
        "data['opening_name'] = data['opening_name'].str.replace(r'\\s+', '_', regex=True)\n",
        "data['opening_name'] = data['opening_name'].str.replace(r':', '_', regex=True)\n",
        "data['opening_name'] = data['opening_name'].str.replace(r'\\'', '', regex=True)\n",
        "data['opening_name'] = data['opening_name'].str.replace(r'|', '', regex=True)\n",
        "data['opening_name'] = data['opening_name'].str.replace(r'#', '', regex=True)\n",
        "data['opening_name'] = data['opening_name'].str.replace(r'_{2,}', '_', regex=True)\n",
        "\n",
        "data['moves'] = data['moves'].str.replace(r'\\s+', '_', regex=True)\n",
        "data['moves'] = data['moves'].str.replace(r'_{2,}', '_', regex=True)\n"
      ],
      "metadata": {
        "id": "P8LSW4qgH9U5"
      },
      "execution_count": null,
      "outputs": []
    },
    {
      "cell_type": "markdown",
      "source": [
        "Print the dataframe into a csv file"
      ],
      "metadata": {
        "id": "vc2_eYFOOAd-"
      }
    },
    {
      "cell_type": "code",
      "source": [
        "data.to_csv(\"modified_games.csv\", index = False)"
      ],
      "metadata": {
        "id": "pIINscW6OA0e"
      },
      "execution_count": null,
      "outputs": []
    },
    {
      "cell_type": "markdown",
      "source": [
        "Remove drawn instances"
      ],
      "metadata": {
        "id": "9egPxU_4JZCI"
      }
    },
    {
      "cell_type": "code",
      "source": [
        "data = data[~(data['winner'] == 'draw')]"
      ],
      "metadata": {
        "id": "zTkxoCqvJb2f"
      },
      "execution_count": null,
      "outputs": []
    }
  ]
}